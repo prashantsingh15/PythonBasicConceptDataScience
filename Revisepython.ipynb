{
 "cells": [
  {
   "cell_type": "code",
   "execution_count": 1,
   "id": "9414b81b-2c95-4a58-808e-4ffd5363220f",
   "metadata": {},
   "outputs": [
    {
     "data": {
      "text/plain": [
       "5"
      ]
     },
     "execution_count": 1,
     "metadata": {},
     "output_type": "execute_result"
    }
   ],
   "source": [
    "2 + 3"
   ]
  },
  {
   "cell_type": "code",
   "execution_count": 1,
   "id": "0c7e84a9-1244-4ddb-a31d-76a891a20fcf",
   "metadata": {},
   "outputs": [],
   "source": [
    "a = 10"
   ]
  },
  {
   "cell_type": "code",
   "execution_count": 6,
   "id": "9f10053b-28fa-4de1-b5c4-9867a2f1d35a",
   "metadata": {},
   "outputs": [],
   "source": [
    "b = 20"
   ]
  },
  {
   "cell_type": "code",
   "execution_count": 7,
   "id": "9c472632-1ad9-4e52-9b8a-58d63db2851e",
   "metadata": {},
   "outputs": [
    {
     "data": {
      "text/plain": [
       "30"
      ]
     },
     "execution_count": 7,
     "metadata": {},
     "output_type": "execute_result"
    }
   ],
   "source": [
    "a + b"
   ]
  },
  {
   "cell_type": "markdown",
   "id": "12b0b35f-52b4-40af-9d60-a00d482519e2",
   "metadata": {},
   "source": [
    "# Python is a self type language - Python understand its own which type of data we are using there is no need to declare the type of data ...\n"
   ]
  },
  {
   "cell_type": "code",
   "execution_count": 9,
   "id": "71732c43-930d-48e9-b80e-bd8c8bc2fde9",
   "metadata": {},
   "outputs": [
    {
     "data": {
      "text/plain": [
       "int"
      ]
     },
     "execution_count": 9,
     "metadata": {},
     "output_type": "execute_result"
    }
   ],
   "source": [
    "type(a)"
   ]
  },
  {
   "cell_type": "code",
   "execution_count": 10,
   "id": "110b501f-7dc3-4704-a1d7-388681800077",
   "metadata": {},
   "outputs": [],
   "source": [
    "b = 2.09"
   ]
  },
  {
   "cell_type": "code",
   "execution_count": 11,
   "id": "ebd20c79-278e-49e6-9b83-9f3bc84d2152",
   "metadata": {},
   "outputs": [
    {
     "data": {
      "text/plain": [
       "float"
      ]
     },
     "execution_count": 11,
     "metadata": {},
     "output_type": "execute_result"
    }
   ],
   "source": [
    "type(b)"
   ]
  },
  {
   "cell_type": "code",
   "execution_count": 13,
   "id": "50575d9a-2367-41cb-975f-19249d505267",
   "metadata": {},
   "outputs": [],
   "source": [
    "c = 45.234566"
   ]
  },
  {
   "cell_type": "code",
   "execution_count": 14,
   "id": "8ded0c06-831b-4b14-97e1-d9ffbb48bb8e",
   "metadata": {},
   "outputs": [
    {
     "data": {
      "text/plain": [
       "float"
      ]
     },
     "execution_count": 14,
     "metadata": {},
     "output_type": "execute_result"
    }
   ],
   "source": [
    "type(c)"
   ]
  },
  {
   "cell_type": "code",
   "execution_count": 15,
   "id": "05556a43-70df-4385-9acd-002417e428d6",
   "metadata": {},
   "outputs": [],
   "source": [
    "d  = \"Prashant\""
   ]
  },
  {
   "cell_type": "code",
   "execution_count": 16,
   "id": "dff09959-4871-4074-815f-60e54e148e84",
   "metadata": {},
   "outputs": [
    {
     "data": {
      "text/plain": [
       "'Prashant'"
      ]
     },
     "execution_count": 16,
     "metadata": {},
     "output_type": "execute_result"
    }
   ],
   "source": [
    "d"
   ]
  },
  {
   "cell_type": "code",
   "execution_count": 17,
   "id": "5cf63c33-2452-429d-a749-bcee1273d698",
   "metadata": {},
   "outputs": [
    {
     "data": {
      "text/plain": [
       "str"
      ]
     },
     "execution_count": 17,
     "metadata": {},
     "output_type": "execute_result"
    }
   ],
   "source": [
    "type(d)"
   ]
  },
  {
   "cell_type": "code",
   "execution_count": 22,
   "id": "96f433af-62eb-425a-8c10-6490fe018b70",
   "metadata": {},
   "outputs": [
    {
     "data": {
      "text/plain": [
       "str"
      ]
     },
     "execution_count": 22,
     "metadata": {},
     "output_type": "execute_result"
    }
   ],
   "source": [
    "e = 'this is my first class'\n",
    "type(e)\n"
   ]
  },
  {
   "cell_type": "code",
   "execution_count": 26,
   "id": "eb0df219-9267-4023-87c4-bad5c3d3ca41",
   "metadata": {},
   "outputs": [
    {
     "data": {
      "text/plain": [
       "bool"
      ]
     },
     "execution_count": 26,
     "metadata": {},
     "output_type": "execute_result"
    }
   ],
   "source": [
    "n = True # Internally system stores value of True is 1.\n",
    "type(n)"
   ]
  },
  {
   "cell_type": "code",
   "execution_count": 27,
   "id": "9744b075-f847-4bdf-ac91-34e64c866127",
   "metadata": {},
   "outputs": [
    {
     "data": {
      "text/plain": [
       "bool"
      ]
     },
     "execution_count": 27,
     "metadata": {},
     "output_type": "execute_result"
    }
   ],
   "source": [
    "m = False # And in M system stores a value 0 .\n",
    "type(m)"
   ]
  },
  {
   "cell_type": "code",
   "execution_count": 25,
   "id": "b74b2593-be82-41c2-a0cf-03a966317e98",
   "metadata": {},
   "outputs": [
    {
     "data": {
      "text/plain": [
       "1"
      ]
     },
     "execution_count": 25,
     "metadata": {},
     "output_type": "execute_result"
    }
   ],
   "source": [
    "n+m\n"
   ]
  },
  {
   "cell_type": "code",
   "execution_count": 30,
   "id": "fd267866-f74f-4644-962a-bff829c61d8b",
   "metadata": {},
   "outputs": [
    {
     "data": {
      "text/plain": [
       "1"
      ]
     },
     "execution_count": 30,
     "metadata": {},
     "output_type": "execute_result"
    }
   ],
   "source": [
    "True * True"
   ]
  },
  {
   "cell_type": "code",
   "execution_count": 31,
   "id": "db65f622-a3df-4454-ba86-4bd46e6abd10",
   "metadata": {},
   "outputs": [
    {
     "data": {
      "text/plain": [
       "0"
      ]
     },
     "execution_count": 31,
     "metadata": {},
     "output_type": "execute_result"
    }
   ],
   "source": [
    "True * False"
   ]
  },
  {
   "cell_type": "code",
   "execution_count": 34,
   "id": "97ffc062-6a96-4b5d-8956-4c71574cbdbf",
   "metadata": {},
   "outputs": [
    {
     "ename": "ZeroDivisionError",
     "evalue": "division by zero",
     "output_type": "error",
     "traceback": [
      "\u001b[1;31m---------------------------------------------------------------------------\u001b[0m",
      "\u001b[1;31mZeroDivisionError\u001b[0m                         Traceback (most recent call last)",
      "Cell \u001b[1;32mIn[34], line 1\u001b[0m\n\u001b[1;32m----> 1\u001b[0m \u001b[38;5;28;43;01mTrue\u001b[39;49;00m\u001b[43m \u001b[49m\u001b[38;5;241;43m/\u001b[39;49m\u001b[43m \u001b[49m\u001b[38;5;28;43;01mFalse\u001b[39;49;00m \u001b[38;5;66;03m# 1 / 0 = In core python we divide any number with zero it will throw a error name as a Zero Devision Error and in Numpy it Will give us INF(infinity)..\u001b[39;00m\n",
      "\u001b[1;31mZeroDivisionError\u001b[0m: division by zero"
     ]
    }
   ],
   "source": [
    "True / False # 1 / 0 = In core python we divide any number with zero it will throw a error name as a Zero Devision Error and in Numpy it Will give us INF(infinity).."
   ]
  },
  {
   "cell_type": "code",
   "execution_count": 42,
   "id": "5e550382-8225-4755-b827-d92041343165",
   "metadata": {},
   "outputs": [
    {
     "data": {
      "text/plain": [
       "complex"
      ]
     },
     "execution_count": 42,
     "metadata": {},
     "output_type": "execute_result"
    }
   ],
   "source": [
    "# Complex Number - Combination of real number and imaginary number.\n",
    "# In python we use to write j not i like in our mathematics It understand as j..j is a notation in python and it tells the python that this is a imaginary number..\n",
    "\n",
    "\n",
    "a = 5 + 8j \n",
    "type(a)"
   ]
  },
  {
   "cell_type": "code",
   "execution_count": 43,
   "id": "9a7d9d0c-f60f-4169-aec7-cb5a81f65919",
   "metadata": {},
   "outputs": [
    {
     "data": {
      "text/plain": [
       "5.0"
      ]
     },
     "execution_count": 43,
     "metadata": {},
     "output_type": "execute_result"
    }
   ],
   "source": [
    "a.real"
   ]
  },
  {
   "cell_type": "code",
   "execution_count": 45,
   "id": "cdae781a-0d73-4c8d-90ff-57aa2706299f",
   "metadata": {},
   "outputs": [
    {
     "data": {
      "text/plain": [
       "8.0"
      ]
     },
     "execution_count": 45,
     "metadata": {},
     "output_type": "execute_result"
    }
   ],
   "source": [
    "a.imag"
   ]
  },
  {
   "cell_type": "markdown",
   "id": "9bbb24a6-32a9-402e-9742-d3cad8b536e4",
   "metadata": {},
   "source": [
    "# Ques - In top we assign a value in (a = 10 and here we assigning again a = 5 + 8j) then what is happening there ... \n",
    "# Ans - Garbage Collection - In this the previously assigned value is wiped out from the memory when we assigned a new value there 'a = 5 + 8j' so internally python will break the link with first assign value a = '10' , and allocate the space for a = 5 + 8j"
   ]
  },
  {
   "cell_type": "code",
   "execution_count": 46,
   "id": "d224af61-a5d0-4e6b-bfbc-213ae092df17",
   "metadata": {},
   "outputs": [
    {
     "name": "stdout",
     "output_type": "stream",
     "text": [
      "My name is Prashant Singh\n"
     ]
    }
   ],
   "source": [
    "print(\"My name is Prashant Singh\") # Whenever we want to print something  we use Print it will give the result in console.."
   ]
  },
  {
   "cell_type": "markdown",
   "id": "fd7ea8e6-53a3-42ba-bf6a-0f18a5826fe2",
   "metadata": {},
   "source": [
    "# In initial stage of devlopment and scripting and normal use we use print() in python but in Concept of Logging and Monitoring why we dont use print() ?"
   ]
  },
  {
   "cell_type": "markdown",
   "id": "15f879aa-f859-4828-8310-003d25415eaf",
   "metadata": {},
   "source": [
    "# Anns -  Using print() statements for debugging or displaying information on the console is common during development or for simple scripts. However, for more sophisticated applications, especially those deployed in production environments, logging is preferred over print() for several reasons:\n",
    "\n",
    "1. Severity Levels:\n",
    "Logging allows you to specify different levels of importance for the messages (e.g., DEBUG, INFO, WARNING, ERROR, CRITICAL). This makes it easier to control what is logged and to filter the logs based on severity, which is not possible with print() statements.\n",
    "\n",
    "2. Destination Control:\n",
    "With logging, you can easily redirect output to different destinations (files, consoles, remote log servers, etc.) without changing the code that generates the log message. print() only sends output to the standard output (stdout) or standard error (stderr), and redirecting this output is less flexible and more error-prone.\n",
    "\n",
    "3. Structured Logging:\n",
    "Logs can be structured in a way that is easier for machines to parse (e.g., JSON format). This structure is beneficial for log analysis and monitoring tools, making it easier to search through logs, visualize them, or detect anomalies. Implementing structured logging with print() would require manually formatting each message, which is tedious and error-prone.\n",
    "\n",
    "4. Performance:\n",
    "Logging frameworks often offer performance optimizations, such as asynchronous logging, buffering, and log rotation, which help in efficiently managing log files and ensuring that logging does not significantly impact the application's performance. print() lacks these optimizations and can lead to performance issues, especially when writing to a file or when the volume of output is high.\n",
    "\n",
    "5. Contextual Information:\n",
    "Logging frameworks can automatically include contextual information in each log message (e.g., timestamp, source file, line number, function name). This context is crucial for understanding the circumstances under which a log message was generated. Implementing this manually with print() would be cumbersome.\n",
    "\n",
    "6. Centralized Logging and Monitoring:\n",
    "In distributed systems, logs from multiple services and applications need to be aggregated and monitored centrally. Logging frameworks can integrate with centralized logging systems more seamlessly than print() statements, which are not designed for such use cases.\n",
    "\n",
    "7. Conditional Logging:\n",
    "Logging frameworks allow enabling or disabling logging at runtime based on configuration files or environmental variables. This flexibility means you can turn off logging in performance-sensitive environments or enable detailed logging for troubleshooting without changing the application code. This dynamic control is not available with print().\n",
    "\n",
    "8. Thread and Process Safety:\n",
    "Logging libraries are designed to be thread-safe and can handle logs from multiple threads and processes without data corruption or loss of messages. Achieving thread or process safety with print() requires additional synchronization code.\n",
    "\n",
    "Conclusion:\n",
    "While print() is sufficient for simple scripts or during the early stages of development, logging provides a more robust, flexible, and scalable solution for monitoring and debugging applications, especially in production environments."
   ]
  },
  {
   "cell_type": "code",
   "execution_count": null,
   "id": "1d4f8146-c517-47d3-840e-d0026dfc54de",
   "metadata": {},
   "outputs": [],
   "source": []
  },
  {
   "cell_type": "code",
   "execution_count": null,
   "id": "1e80b86b-beb0-4788-b51d-5e9260b84b92",
   "metadata": {},
   "outputs": [],
   "source": []
  },
  {
   "cell_type": "code",
   "execution_count": null,
   "id": "4b62a1a2-3bbe-49c9-9bd1-0cbdf1ce326e",
   "metadata": {},
   "outputs": [],
   "source": []
  },
  {
   "cell_type": "code",
   "execution_count": null,
   "id": "8c0f8b78-1629-47b9-b543-42f9de7e3308",
   "metadata": {},
   "outputs": [],
   "source": []
  },
  {
   "cell_type": "code",
   "execution_count": 49,
   "id": "3db341ce-8708-4c06-b0ff-56d752ee6a3a",
   "metadata": {},
   "outputs": [
    {
     "name": "stdout",
     "output_type": "stream",
     "text": [
      "Initialized empty Git repository in C:/Users/bunty/Dropbox/100 PYTHON QUESTION/Python Revision/.git/\n"
     ]
    }
   ],
   "source": [
    "! git init"
   ]
  },
  {
   "cell_type": "code",
   "execution_count": 51,
   "id": "713c5837-51e9-4c5b-b6d7-464f073820b2",
   "metadata": {},
   "outputs": [
    {
     "name": "stderr",
     "output_type": "stream",
     "text": [
      "warning: in the working copy of '.ipynb_checkpoints/Revisepython-checkpoint.ipynb', LF will be replaced by CRLF the next time Git touches it\n",
      "warning: in the working copy of '.ipynb_checkpoints/Untitled-checkpoint.ipynb', LF will be replaced by CRLF the next time Git touches it\n",
      "warning: in the working copy of 'Revisepython.ipynb', LF will be replaced by CRLF the next time Git touches it\n",
      "warning: in the working copy of 'Untitled.ipynb', LF will be replaced by CRLF the next time Git touches it\n"
     ]
    }
   ],
   "source": [
    "! git add ."
   ]
  },
  {
   "cell_type": "code",
   "execution_count": 52,
   "id": "82b52668-3ea7-431e-bff6-6c74260a294c",
   "metadata": {},
   "outputs": [
    {
     "name": "stdout",
     "output_type": "stream",
     "text": [
      "On branch master\n",
      "\n",
      "No commits yet\n",
      "\n",
      "Changes to be committed:\n",
      "  (use \"git rm --cached <file>...\" to unstage)\n",
      "\tnew file:   .ipynb_checkpoints/Revisepython-checkpoint.ipynb\n",
      "\tnew file:   .ipynb_checkpoints/Untitled-checkpoint.ipynb\n",
      "\tnew file:   Revisepython.ipynb\n",
      "\tnew file:   Untitled.ipynb\n",
      "\n"
     ]
    }
   ],
   "source": [
    "! git status"
   ]
  },
  {
   "cell_type": "code",
   "execution_count": 53,
   "id": "c3b603e6-559e-496e-bc58-d93422aa70f0",
   "metadata": {},
   "outputs": [
    {
     "name": "stdout",
     "output_type": "stream",
     "text": [
      "[master (root-commit) 3e2f9c6] first commit\n",
      " 4 files changed, 1232 insertions(+)\n",
      " create mode 100644 .ipynb_checkpoints/Revisepython-checkpoint.ipynb\n",
      " create mode 100644 .ipynb_checkpoints/Untitled-checkpoint.ipynb\n",
      " create mode 100644 Revisepython.ipynb\n",
      " create mode 100644 Untitled.ipynb\n"
     ]
    }
   ],
   "source": [
    "! git commit -m \"first commit\""
   ]
  },
  {
   "cell_type": "code",
   "execution_count": 54,
   "id": "29953342-b169-485b-9057-4c9ce7dca386",
   "metadata": {},
   "outputs": [],
   "source": [
    "! git branch -M main"
   ]
  },
  {
   "cell_type": "code",
   "execution_count": 55,
   "id": "f4939aee-7e59-4a6b-a72b-5d5b27055ec9",
   "metadata": {},
   "outputs": [],
   "source": [
    "! git remote add origin https://github.com/prashantsingh15/PythonBasicConceptDataScience.git"
   ]
  },
  {
   "cell_type": "code",
   "execution_count": 57,
   "id": "e8898307-2daa-4472-b19d-21878228907f",
   "metadata": {},
   "outputs": [
    {
     "name": "stdout",
     "output_type": "stream",
     "text": [
      "branch 'main' set up to track 'origin/main'.\n"
     ]
    },
    {
     "name": "stderr",
     "output_type": "stream",
     "text": [
      "Everything up-to-date\n"
     ]
    }
   ],
   "source": [
    "! git push -u origin main"
   ]
  },
  {
   "cell_type": "code",
   "execution_count": null,
   "id": "27bcfacd-ef7d-4217-9b48-883eb07cd41c",
   "metadata": {},
   "outputs": [],
   "source": [
    "! git update"
   ]
  },
  {
   "cell_type": "code",
   "execution_count": null,
   "id": "1d1cb521-78d5-4f0a-97a9-ca92b12cb0e7",
   "metadata": {},
   "outputs": [],
   "source": []
  }
 ],
 "metadata": {
  "kernelspec": {
   "display_name": "Python 3 (ipykernel)",
   "language": "python",
   "name": "python3"
  },
  "language_info": {
   "codemirror_mode": {
    "name": "ipython",
    "version": 3
   },
   "file_extension": ".py",
   "mimetype": "text/x-python",
   "name": "python",
   "nbconvert_exporter": "python",
   "pygments_lexer": "ipython3",
   "version": "3.10.13"
  }
 },
 "nbformat": 4,
 "nbformat_minor": 5
}
