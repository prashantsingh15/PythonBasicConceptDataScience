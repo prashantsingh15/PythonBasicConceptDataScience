{
 "cells": [
  {
   "cell_type": "code",
   "execution_count": 2,
   "id": "9414b81b-2c95-4a58-808e-4ffd5363220f",
   "metadata": {},
   "outputs": [
    {
     "data": {
      "text/plain": [
       "5"
      ]
     },
     "execution_count": 2,
     "metadata": {},
     "output_type": "execute_result"
    }
   ],
   "source": [
    "2 + 3"
   ]
  },
  {
   "cell_type": "code",
   "execution_count": 3,
   "id": "0c7e84a9-1244-4ddb-a31d-76a891a20fcf",
   "metadata": {},
   "outputs": [],
   "source": [
    "a = 10"
   ]
  },
  {
   "cell_type": "code",
   "execution_count": 4,
   "id": "9f10053b-28fa-4de1-b5c4-9867a2f1d35a",
   "metadata": {},
   "outputs": [],
   "source": [
    "b = 20"
   ]
  },
  {
   "cell_type": "code",
   "execution_count": 5,
   "id": "9c472632-1ad9-4e52-9b8a-58d63db2851e",
   "metadata": {},
   "outputs": [
    {
     "data": {
      "text/plain": [
       "30"
      ]
     },
     "execution_count": 5,
     "metadata": {},
     "output_type": "execute_result"
    }
   ],
   "source": [
    "a + b"
   ]
  },
  {
   "cell_type": "markdown",
   "id": "12b0b35f-52b4-40af-9d60-a00d482519e2",
   "metadata": {},
   "source": [
    "# Python is a self type language - Python understand its own which type of data we are using there is no need to declare the type of data ...\n"
   ]
  },
  {
   "cell_type": "code",
   "execution_count": 6,
   "id": "71732c43-930d-48e9-b80e-bd8c8bc2fde9",
   "metadata": {},
   "outputs": [
    {
     "data": {
      "text/plain": [
       "int"
      ]
     },
     "execution_count": 6,
     "metadata": {},
     "output_type": "execute_result"
    }
   ],
   "source": [
    "type(a)"
   ]
  },
  {
   "cell_type": "code",
   "execution_count": 7,
   "id": "110b501f-7dc3-4704-a1d7-388681800077",
   "metadata": {},
   "outputs": [],
   "source": [
    "b = 2.09"
   ]
  },
  {
   "cell_type": "code",
   "execution_count": 8,
   "id": "ebd20c79-278e-49e6-9b83-9f3bc84d2152",
   "metadata": {},
   "outputs": [
    {
     "data": {
      "text/plain": [
       "float"
      ]
     },
     "execution_count": 8,
     "metadata": {},
     "output_type": "execute_result"
    }
   ],
   "source": [
    "type(b)"
   ]
  },
  {
   "cell_type": "code",
   "execution_count": 9,
   "id": "50575d9a-2367-41cb-975f-19249d505267",
   "metadata": {},
   "outputs": [],
   "source": [
    "c = 45.234566"
   ]
  },
  {
   "cell_type": "code",
   "execution_count": 10,
   "id": "8ded0c06-831b-4b14-97e1-d9ffbb48bb8e",
   "metadata": {},
   "outputs": [
    {
     "data": {
      "text/plain": [
       "float"
      ]
     },
     "execution_count": 10,
     "metadata": {},
     "output_type": "execute_result"
    }
   ],
   "source": [
    "type(c)"
   ]
  },
  {
   "cell_type": "code",
   "execution_count": 11,
   "id": "05556a43-70df-4385-9acd-002417e428d6",
   "metadata": {},
   "outputs": [],
   "source": [
    "d  = \"Prashant\""
   ]
  },
  {
   "cell_type": "code",
   "execution_count": 12,
   "id": "dff09959-4871-4074-815f-60e54e148e84",
   "metadata": {},
   "outputs": [
    {
     "data": {
      "text/plain": [
       "'Prashant'"
      ]
     },
     "execution_count": 12,
     "metadata": {},
     "output_type": "execute_result"
    }
   ],
   "source": [
    "d"
   ]
  },
  {
   "cell_type": "code",
   "execution_count": 13,
   "id": "5cf63c33-2452-429d-a749-bcee1273d698",
   "metadata": {},
   "outputs": [
    {
     "data": {
      "text/plain": [
       "str"
      ]
     },
     "execution_count": 13,
     "metadata": {},
     "output_type": "execute_result"
    }
   ],
   "source": [
    "type(d)"
   ]
  },
  {
   "cell_type": "code",
   "execution_count": 14,
   "id": "96f433af-62eb-425a-8c10-6490fe018b70",
   "metadata": {},
   "outputs": [
    {
     "data": {
      "text/plain": [
       "str"
      ]
     },
     "execution_count": 14,
     "metadata": {},
     "output_type": "execute_result"
    }
   ],
   "source": [
    "e = 'this is my first class'\n",
    "type(e)\n"
   ]
  },
  {
   "cell_type": "code",
   "execution_count": 15,
   "id": "eb0df219-9267-4023-87c4-bad5c3d3ca41",
   "metadata": {},
   "outputs": [
    {
     "data": {
      "text/plain": [
       "bool"
      ]
     },
     "execution_count": 15,
     "metadata": {},
     "output_type": "execute_result"
    }
   ],
   "source": [
    "n = True # Internally system stores value of True is 1.\n",
    "type(n)"
   ]
  },
  {
   "cell_type": "code",
   "execution_count": 16,
   "id": "9744b075-f847-4bdf-ac91-34e64c866127",
   "metadata": {},
   "outputs": [
    {
     "data": {
      "text/plain": [
       "bool"
      ]
     },
     "execution_count": 16,
     "metadata": {},
     "output_type": "execute_result"
    }
   ],
   "source": [
    "m = False # And in M system stores a value 0 .\n",
    "type(m)"
   ]
  },
  {
   "cell_type": "code",
   "execution_count": 17,
   "id": "b74b2593-be82-41c2-a0cf-03a966317e98",
   "metadata": {},
   "outputs": [
    {
     "data": {
      "text/plain": [
       "1"
      ]
     },
     "execution_count": 17,
     "metadata": {},
     "output_type": "execute_result"
    }
   ],
   "source": [
    "n+m\n"
   ]
  },
  {
   "cell_type": "code",
   "execution_count": 18,
   "id": "fd267866-f74f-4644-962a-bff829c61d8b",
   "metadata": {},
   "outputs": [
    {
     "data": {
      "text/plain": [
       "1"
      ]
     },
     "execution_count": 18,
     "metadata": {},
     "output_type": "execute_result"
    }
   ],
   "source": [
    "True * True"
   ]
  },
  {
   "cell_type": "code",
   "execution_count": 19,
   "id": "db65f622-a3df-4454-ba86-4bd46e6abd10",
   "metadata": {},
   "outputs": [
    {
     "data": {
      "text/plain": [
       "0"
      ]
     },
     "execution_count": 19,
     "metadata": {},
     "output_type": "execute_result"
    }
   ],
   "source": [
    "True * False"
   ]
  },
  {
   "cell_type": "code",
   "execution_count": 20,
   "id": "97ffc062-6a96-4b5d-8956-4c71574cbdbf",
   "metadata": {},
   "outputs": [
    {
     "ename": "ZeroDivisionError",
     "evalue": "division by zero",
     "output_type": "error",
     "traceback": [
      "\u001b[1;31m---------------------------------------------------------------------------\u001b[0m",
      "\u001b[1;31mZeroDivisionError\u001b[0m                         Traceback (most recent call last)",
      "Cell \u001b[1;32mIn[20], line 1\u001b[0m\n\u001b[1;32m----> 1\u001b[0m \u001b[38;5;28;43;01mTrue\u001b[39;49;00m\u001b[43m \u001b[49m\u001b[38;5;241;43m/\u001b[39;49m\u001b[43m \u001b[49m\u001b[38;5;28;43;01mFalse\u001b[39;49;00m \u001b[38;5;66;03m# 1 / 0 = In core python we divide any number with zero it will throw a error name as a Zero Devision Error and in Numpy it Will give us INF(infinity)..\u001b[39;00m\n",
      "\u001b[1;31mZeroDivisionError\u001b[0m: division by zero"
     ]
    }
   ],
   "source": [
    "True / False # 1 / 0 = In core python we divide any number with zero it will throw a error name as a Zero Devision Error and in Numpy it Will give us INF(infinity).."
   ]
  },
  {
   "cell_type": "code",
   "execution_count": 21,
   "id": "5e550382-8225-4755-b827-d92041343165",
   "metadata": {},
   "outputs": [
    {
     "data": {
      "text/plain": [
       "complex"
      ]
     },
     "execution_count": 21,
     "metadata": {},
     "output_type": "execute_result"
    }
   ],
   "source": [
    "# Complex Number - Combination of real number and imaginary number.\n",
    "# In python we use to write j not i like in our mathematics It understand as j..j is a notation in python and it tells the python that this is a imaginary number..\n",
    "\n",
    "\n",
    "a = 5 + 8j \n",
    "type(a)"
   ]
  },
  {
   "cell_type": "code",
   "execution_count": 22,
   "id": "9a7d9d0c-f60f-4169-aec7-cb5a81f65919",
   "metadata": {},
   "outputs": [
    {
     "data": {
      "text/plain": [
       "5.0"
      ]
     },
     "execution_count": 22,
     "metadata": {},
     "output_type": "execute_result"
    }
   ],
   "source": [
    "a.real"
   ]
  },
  {
   "cell_type": "code",
   "execution_count": null,
   "id": "ffeda86f-0392-448e-a4b3-8f3c1b15bc9b",
   "metadata": {},
   "outputs": [],
   "source": []
  },
  {
   "cell_type": "code",
   "execution_count": null,
   "id": "2f6d150c-0f34-4f43-b179-be20169513f1",
   "metadata": {},
   "outputs": [],
   "source": []
  },
  {
   "cell_type": "code",
   "execution_count": 23,
   "id": "cdae781a-0d73-4c8d-90ff-57aa2706299f",
   "metadata": {},
   "outputs": [
    {
     "data": {
      "text/plain": [
       "8.0"
      ]
     },
     "execution_count": 23,
     "metadata": {},
     "output_type": "execute_result"
    }
   ],
   "source": [
    "a.imag"
   ]
  },
  {
   "cell_type": "markdown",
   "id": "9bbb24a6-32a9-402e-9742-d3cad8b536e4",
   "metadata": {},
   "source": [
    "# Ques - In top we assign a value in (a = 10 and here we assigning again a = 5 + 8j) then what is happening there ... \n",
    "# Ans - Garbage Collection - In this the previously assigned value is wiped out from the memory when we assigned a new value there 'a = 5 + 8j' so internally python will break the link with first assign value a = '10' , and allocate the space for a = 5 + 8j"
   ]
  },
  {
   "cell_type": "code",
   "execution_count": 24,
   "id": "d224af61-a5d0-4e6b-bfbc-213ae092df17",
   "metadata": {},
   "outputs": [
    {
     "name": "stdout",
     "output_type": "stream",
     "text": [
      "My name is Prashant Singh\n"
     ]
    }
   ],
   "source": [
    "print(\"My name is Prashant Singh\") # Whenever we want to print something  we use Print it will give the result in console.."
   ]
  },
  {
   "cell_type": "markdown",
   "id": "fd7ea8e6-53a3-42ba-bf6a-0f18a5826fe2",
   "metadata": {},
   "source": [
    "# In initial stage of devlopment and scripting and normal use we use print() in python but in Concept of Logging and Monitoring why we dont use print() ?"
   ]
  },
  {
   "cell_type": "markdown",
   "id": "15f879aa-f859-4828-8310-003d25415eaf",
   "metadata": {},
   "source": [
    "# Anns -  Using print() statements for debugging or displaying information on the console is common during development or for simple scripts. However, for more sophisticated applications, especially those deployed in production environments, logging is preferred over print() for several reasons:\n",
    "\n",
    "1. Severity Levels:\n",
    "Logging allows you to specify different levels of importance for the messages (e.g., DEBUG, INFO, WARNING, ERROR, CRITICAL). This makes it easier to control what is logged and to filter the logs based on severity, which is not possible with print() statements.\n",
    "\n",
    "2. Destination Control:\n",
    "With logging, you can easily redirect output to different destinations (files, consoles, remote log servers, etc.) without changing the code that generates the log message. print() only sends output to the standard output (stdout) or standard error (stderr), and redirecting this output is less flexible and more error-prone.\n",
    "\n",
    "3. Structured Logging:\n",
    "Logs can be structured in a way that is easier for machines to parse (e.g., JSON format). This structure is beneficial for log analysis and monitoring tools, making it easier to search through logs, visualize them, or detect anomalies. Implementing structured logging with print() would require manually formatting each message, which is tedious and error-prone.\n",
    "\n",
    "4. Performance:\n",
    "Logging frameworks often offer performance optimizations, such as asynchronous logging, buffering, and log rotation, which help in efficiently managing log files and ensuring that logging does not significantly impact the application's performance. print() lacks these optimizations and can lead to performance issues, especially when writing to a file or when the volume of output is high.\n",
    "\n",
    "5. Contextual Information:\n",
    "Logging frameworks can automatically include contextual information in each log message (e.g., timestamp, source file, line number, function name). This context is crucial for understanding the circumstances under which a log message was generated. Implementing this manually with print() would be cumbersome.\n",
    "\n",
    "6. Centralized Logging and Monitoring:\n",
    "In distributed systems, logs from multiple services and applications need to be aggregated and monitored centrally. Logging frameworks can integrate with centralized logging systems more seamlessly than print() statements, which are not designed for such use cases.\n",
    "\n",
    "7. Conditional Logging:\n",
    "Logging frameworks allow enabling or disabling logging at runtime based on configuration files or environmental variables. This flexibility means you can turn off logging in performance-sensitive environments or enable detailed logging for troubleshooting without changing the application code. This dynamic control is not available with print().\n",
    "\n",
    "8. Thread and Process Safety:\n",
    "Logging libraries are designed to be thread-safe and can handle logs from multiple threads and processes without data corruption or loss of messages. Achieving thread or process safety with print() requires additional synchronization code.\n",
    "\n",
    "Conclusion:\n",
    "While print() is sufficient for simple scripts or during the early stages of development, logging provides a more robust, flexible, and scalable solution for monitoring and debugging applications, especially in production environments."
   ]
  },
  {
   "cell_type": "markdown",
   "id": "0c0a5d65-8f65-4385-9990-35204a6cc9ab",
   "metadata": {},
   "source": [
    "- Strings are the combination of the character\n",
    "\n",
    "Internally when we store s = \"prashant\" in memory then the reference of \"prashant\" is 's' and as we know that strings are the combination of the character..  so it will give the index to each character ...\n",
    "-  0  1  2  3  4  5  6  7\n",
    "-  p  r  a  s  h  a  n  t\n",
    "- -8 -7 -6 -5 -4 -3 -2 -1"
   ]
  },
  {
   "cell_type": "code",
   "execution_count": 37,
   "id": "1d4f8146-c517-47d3-840e-d0026dfc54de",
   "metadata": {},
   "outputs": [
    {
     "data": {
      "text/plain": [
       "str"
      ]
     },
     "execution_count": 37,
     "metadata": {},
     "output_type": "execute_result"
    }
   ],
   "source": [
    "s = \"prashant\" \n",
    "type(s)"
   ]
  },
  {
   "cell_type": "code",
   "execution_count": 38,
   "id": "1e80b86b-beb0-4788-b51d-5e9260b84b92",
   "metadata": {},
   "outputs": [
    {
     "data": {
      "text/plain": [
       "'p'"
      ]
     },
     "execution_count": 38,
     "metadata": {},
     "output_type": "execute_result"
    }
   ],
   "source": [
    "s[0]"
   ]
  },
  {
   "cell_type": "code",
   "execution_count": 39,
   "id": "4b62a1a2-3bbe-49c9-9bd1-0cbdf1ce326e",
   "metadata": {},
   "outputs": [
    {
     "data": {
      "text/plain": [
       "'t'"
      ]
     },
     "execution_count": 39,
     "metadata": {},
     "output_type": "execute_result"
    }
   ],
   "source": [
    "s[-1]"
   ]
  },
  {
   "cell_type": "code",
   "execution_count": 40,
   "id": "8c0f8b78-1629-47b9-b543-42f9de7e3308",
   "metadata": {},
   "outputs": [
    {
     "data": {
      "text/plain": [
       "'p'"
      ]
     },
     "execution_count": 40,
     "metadata": {},
     "output_type": "execute_result"
    }
   ],
   "source": [
    "s[-8]"
   ]
  },
  {
   "cell_type": "code",
   "execution_count": 72,
   "id": "50164d72-2ce0-4fbd-9326-eb63a5aa2915",
   "metadata": {},
   "outputs": [
    {
     "data": {
      "text/plain": [
       "'pra'"
      ]
     },
     "execution_count": 72,
     "metadata": {},
     "output_type": "execute_result"
    }
   ],
   "source": [
    "s[0:3]\n",
    "\n",
    "#  In String Slicing when we slice a string it will always give the result = UpperBound - 1"
   ]
  },
  {
   "cell_type": "code",
   "execution_count": 44,
   "id": "c990cf8f-eaf0-485a-a2b6-e89d867c13c9",
   "metadata": {},
   "outputs": [
    {
     "data": {
      "text/plain": [
       "'pras'"
      ]
     },
     "execution_count": 44,
     "metadata": {},
     "output_type": "execute_result"
    }
   ],
   "source": [
    "s[0:4]"
   ]
  },
  {
   "cell_type": "code",
   "execution_count": 52,
   "id": "21cd0206-e61c-4082-bd3c-e6b5ebe84306",
   "metadata": {},
   "outputs": [],
   "source": [
    "# suppose i want to take out 'P', 'a' , 'h' ,'n' from \"prashant\"\n",
    "# Here we are creating a pattern and there is a gap of 1 in this .."
   ]
  },
  {
   "cell_type": "code",
   "execution_count": 51,
   "id": "3b7099ef-76ab-444f-bbc7-a06f7757d015",
   "metadata": {},
   "outputs": [
    {
     "data": {
      "text/plain": [
       "'pahn'"
      ]
     },
     "execution_count": 51,
     "metadata": {},
     "output_type": "execute_result"
    }
   ],
   "source": [
    "s[0:7:2]"
   ]
  },
  {
   "cell_type": "code",
   "execution_count": 55,
   "id": "c893f1f0-6b6f-4cab-84f7-6215c08198ab",
   "metadata": {},
   "outputs": [
    {
     "data": {
      "text/plain": [
       "'an'"
      ]
     },
     "execution_count": 55,
     "metadata": {},
     "output_type": "execute_result"
    }
   ],
   "source": [
    "s[2::4]"
   ]
  },
  {
   "cell_type": "code",
   "execution_count": 57,
   "id": "71d466e7-ba51-4633-a8fb-a074058d8546",
   "metadata": {},
   "outputs": [
    {
     "ename": "ValueError",
     "evalue": "slice step cannot be zero",
     "output_type": "error",
     "traceback": [
      "\u001b[1;31m---------------------------------------------------------------------------\u001b[0m",
      "\u001b[1;31mValueError\u001b[0m                                Traceback (most recent call last)",
      "Cell \u001b[1;32mIn[57], line 1\u001b[0m\n\u001b[1;32m----> 1\u001b[0m \u001b[43ms\u001b[49m\u001b[43m[\u001b[49m\u001b[38;5;241;43m2\u001b[39;49m\u001b[43m:\u001b[49m\u001b[43m:\u001b[49m\u001b[38;5;241;43m0\u001b[39;49m\u001b[43m]\u001b[49m \n\u001b[0;32m      2\u001b[0m \u001b[38;5;66;03m# ValueError: slice step cannot be zero\u001b[39;00m\n",
      "\u001b[1;31mValueError\u001b[0m: slice step cannot be zero"
     ]
    }
   ],
   "source": [
    "s[2::0] \n",
    "# ValueError: slice step cannot be zero"
   ]
  },
  {
   "cell_type": "code",
   "execution_count": 58,
   "id": "bcd3983d-b623-4e6a-a7b6-cc3def1dd8d5",
   "metadata": {},
   "outputs": [
    {
     "data": {
      "text/plain": [
       "'ashant'"
      ]
     },
     "execution_count": 58,
     "metadata": {},
     "output_type": "execute_result"
    }
   ],
   "source": [
    "s[2::1]"
   ]
  },
  {
   "cell_type": "code",
   "execution_count": 59,
   "id": "ded8ca9b-7043-4685-82cc-3c3c0f7c39fa",
   "metadata": {},
   "outputs": [
    {
     "data": {
      "text/plain": [
       "'prashant'"
      ]
     },
     "execution_count": 59,
     "metadata": {},
     "output_type": "execute_result"
    }
   ],
   "source": [
    "s"
   ]
  },
  {
   "cell_type": "code",
   "execution_count": 61,
   "id": "32431811-4916-4420-ae76-f43413b52a5d",
   "metadata": {},
   "outputs": [],
   "source": [
    "# Print the whole string into reverse direction ....\n",
    "# 'prashant'"
   ]
  },
  {
   "cell_type": "code",
   "execution_count": 62,
   "id": "a0e017fe-6fe4-42c2-a485-6c20456a9573",
   "metadata": {},
   "outputs": [
    {
     "data": {
      "text/plain": [
       "'tnahsarp'"
      ]
     },
     "execution_count": 62,
     "metadata": {},
     "output_type": "execute_result"
    }
   ],
   "source": [
    "s[::-1]"
   ]
  },
  {
   "cell_type": "code",
   "execution_count": 64,
   "id": "0a706733-64f1-4078-8d6a-6ad881bcbfdd",
   "metadata": {},
   "outputs": [
    {
     "data": {
      "text/plain": [
       "''"
      ]
     },
     "execution_count": 64,
     "metadata": {},
     "output_type": "execute_result"
    }
   ],
   "source": [
    "s[2:7:-1]\n",
    "\n",
    "# When we execute this it will come blank '' Why ????\n",
    "\n",
    "# Ans :- When we start to go from 2 it will go to 7 in positive axis but we are also going in negative axis to -1 so it will arise a conflict due to that it will show '' nothing.."
   ]
  },
  {
   "cell_type": "code",
   "execution_count": 68,
   "id": "0c7f923b-0ff2-4162-831b-c344395bd608",
   "metadata": {},
   "outputs": [
    {
     "data": {
      "text/plain": [
       "''"
      ]
     },
     "execution_count": 68,
     "metadata": {},
     "output_type": "execute_result"
    }
   ],
   "source": [
    "s[7:0]\n",
    "\n",
    "# Why this is returning blank ??\n",
    "\n",
    "#  Ans :- It is because we are starting from 7 and going to 0 in negative direction and by deafult s[7:0:1] system is taking 1 so again the conflict arises that's why it is returning this..."
   ]
  },
  {
   "cell_type": "code",
   "execution_count": 71,
   "id": "273bacd6-f8b2-44a7-a95e-d974f40a2f1f",
   "metadata": {},
   "outputs": [
    {
     "data": {
      "text/plain": [
       "'tnahsar'"
      ]
     },
     "execution_count": 71,
     "metadata": {},
     "output_type": "execute_result"
    }
   ],
   "source": [
    "s[7:0:-1]\n",
    " # Why this is returning this ?\n",
    "# Ans :- Because the data is in the same direction and we are jumping in the same direction now there is no conflict rises so that's why we get data."
   ]
  },
  {
   "cell_type": "code",
   "execution_count": 74,
   "id": "802a9ec3-0bb2-420b-88ea-0fcc17838439",
   "metadata": {},
   "outputs": [
    {
     "data": {
      "text/plain": [
       "''"
      ]
     },
     "execution_count": 74,
     "metadata": {},
     "output_type": "execute_result"
    }
   ],
   "source": [
    "s[-2 : -8 : 1]"
   ]
  },
  {
   "cell_type": "code",
   "execution_count": 2,
   "id": "bd415aad-ae12-4829-9c07-e31fe9bd0862",
   "metadata": {},
   "outputs": [
    {
     "name": "stdout",
     "output_type": "stream",
     "text": [
      "42\n"
     ]
    }
   ],
   "source": [
    "x = 2\n",
    "y = 10\n",
    "x *= x * y + 1\n",
    "print(x)"
   ]
  },
  {
   "cell_type": "code",
   "execution_count": null,
   "id": "606a833e-98ab-4675-b375-812a70ba8f3a",
   "metadata": {},
   "outputs": [],
   "source": []
  },
  {
   "cell_type": "code",
   "execution_count": null,
   "id": "cf6d59d6-8877-4580-8230-f989b7a6acb4",
   "metadata": {},
   "outputs": [],
   "source": []
  },
  {
   "cell_type": "code",
   "execution_count": null,
   "id": "992a7f06-ad3c-4ae1-9858-ef945b1e7d17",
   "metadata": {},
   "outputs": [],
   "source": []
  },
  {
   "cell_type": "code",
   "execution_count": null,
   "id": "edf5a3d1-515d-4e81-92d9-ae7db68d4003",
   "metadata": {},
   "outputs": [],
   "source": []
  },
  {
   "cell_type": "code",
   "execution_count": null,
   "id": "94d5aa72-9ab2-4871-a9f6-f0534963b860",
   "metadata": {},
   "outputs": [],
   "source": []
  },
  {
   "cell_type": "code",
   "execution_count": null,
   "id": "bfb9f852-b944-4e82-b0b3-9cb1782c1799",
   "metadata": {},
   "outputs": [],
   "source": []
  },
  {
   "cell_type": "code",
   "execution_count": null,
   "id": "b244eec8-452c-4c08-94dc-8397a9576255",
   "metadata": {},
   "outputs": [],
   "source": []
  },
  {
   "cell_type": "code",
   "execution_count": null,
   "id": "ebe3f638-e8ea-4f16-9f17-473ef5495c11",
   "metadata": {},
   "outputs": [],
   "source": []
  },
  {
   "cell_type": "code",
   "execution_count": null,
   "id": "f6ed9956-e68a-4bf1-9288-09249906d221",
   "metadata": {},
   "outputs": [],
   "source": []
  },
  {
   "cell_type": "code",
   "execution_count": null,
   "id": "beb7c461-44c8-4651-a0dc-470a641bb2af",
   "metadata": {},
   "outputs": [],
   "source": []
  },
  {
   "cell_type": "code",
   "execution_count": null,
   "id": "93e46e2d-b632-4593-95e0-31a772efc08a",
   "metadata": {},
   "outputs": [],
   "source": []
  },
  {
   "cell_type": "code",
   "execution_count": null,
   "id": "c8ec118d-afbc-4c35-b73c-a6f38834ba2e",
   "metadata": {},
   "outputs": [],
   "source": []
  },
  {
   "cell_type": "code",
   "execution_count": null,
   "id": "ee980a4f-2edc-4d3e-a261-d7720f828508",
   "metadata": {},
   "outputs": [],
   "source": []
  }
 ],
 "metadata": {
  "kernelspec": {
   "display_name": "Python 3 (ipykernel)",
   "language": "python",
   "name": "python3"
  },
  "language_info": {
   "codemirror_mode": {
    "name": "ipython",
    "version": 3
   },
   "file_extension": ".py",
   "mimetype": "text/x-python",
   "name": "python",
   "nbconvert_exporter": "python",
   "pygments_lexer": "ipython3",
   "version": "3.10.13"
  }
 },
 "nbformat": 4,
 "nbformat_minor": 5
}
