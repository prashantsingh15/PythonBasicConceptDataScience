{
 "cells": [
  {
   "cell_type": "code",
   "execution_count": 1,
   "id": "9a852dfd-9818-4a1e-8487-a0a17de64065",
   "metadata": {},
   "outputs": [
    {
     "name": "stdout",
     "output_type": "stream",
     "text": [
      "Hello World\n"
     ]
    }
   ],
   "source": [
    "\"\"\"In Python, 0 and -0 are considered equal. This might seem counterintuitive, but it's due to the way floating-point numbers are represented in computer memory. Internally, Python uses a format called IEEE 754 floating-point representation, which treats positive and negative zero as equal.\n",
    "\n",
    "The reason for this behavior lies in how floating-point numbers are represented in binary. Essentially, there are different bit patterns to represent positive and negative zero, but they are considered equal when compared.\n",
    "\n",
    "So, when you compare 0 and -0, Python treats them as equal, and hence the condition 0 == -0 evaluates to True, resulting in the output \"Hello World\".\"\"\"\n",
    "\n",
    "\n",
    "if 0 == -0 :\n",
    "    print(\"Hello World\")\n",
    "\n",
    "else:\n",
    "    print(\"Bye\")\n",
    "\n",
    "\n"
   ]
  },
  {
   "cell_type": "code",
   "execution_count": null,
   "id": "4df962b8-5dff-471a-a2f1-4ca07ae616cb",
   "metadata": {},
   "outputs": [],
   "source": []
  }
 ],
 "metadata": {
  "kernelspec": {
   "display_name": "Python 3 (ipykernel)",
   "language": "python",
   "name": "python3"
  },
  "language_info": {
   "codemirror_mode": {
    "name": "ipython",
    "version": 3
   },
   "file_extension": ".py",
   "mimetype": "text/x-python",
   "name": "python",
   "nbconvert_exporter": "python",
   "pygments_lexer": "ipython3",
   "version": "3.10.13"
  }
 },
 "nbformat": 4,
 "nbformat_minor": 5
}
